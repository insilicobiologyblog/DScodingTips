{
 "cells": [
  {
   "cell_type": "code",
   "execution_count": null,
   "id": "fb1b1a62",
   "metadata": {},
   "outputs": [],
   "source": [
    "# **********************************************************************\n",
    "# Project           : DSCodingTips\n",
    "#\n",
    "# Program name      : DSCodeTips1-DiscoveringEncodingCSVfile\n",
    "#\n",
    "# Author            : insilicobiology\n",
    "#\n",
    "# Date created      : 20220901\n",
    "#\n",
    "# Summary           : How to discover the file encoding of a .csv file\n",
    "#\n",
    "#\n",
    "# Revision History  :\n",
    "#\n",
    "# Date        Author              Num    Summary\n",
    "# 20220901    insilicobiology      1      clean\n",
    "#\n",
    "#\n",
    "# **********************************************************************"
   ]
  },
  {
   "cell_type": "code",
   "execution_count": 1,
   "id": "41ae9dbc",
   "metadata": {},
   "outputs": [
    {
     "name": "stdout",
     "output_type": "stream",
     "text": [
      "<_io.TextIOWrapper name='Data/iris.csv' mode='r' encoding='cp1252'>\n"
     ]
    }
   ],
   "source": [
    "with open(r'Data/iris.csv') as f:\n",
    "    print(f)"
   ]
  },
  {
   "cell_type": "code",
   "execution_count": null,
   "id": "9d9e61d2",
   "metadata": {},
   "outputs": [],
   "source": []
  }
 ],
 "metadata": {
  "kernelspec": {
   "display_name": "Python 3 (ipykernel)",
   "language": "python",
   "name": "python3"
  },
  "language_info": {
   "codemirror_mode": {
    "name": "ipython",
    "version": 3
   },
   "file_extension": ".py",
   "mimetype": "text/x-python",
   "name": "python",
   "nbconvert_exporter": "python",
   "pygments_lexer": "ipython3",
   "version": "3.9.12"
  }
 },
 "nbformat": 4,
 "nbformat_minor": 5
}
