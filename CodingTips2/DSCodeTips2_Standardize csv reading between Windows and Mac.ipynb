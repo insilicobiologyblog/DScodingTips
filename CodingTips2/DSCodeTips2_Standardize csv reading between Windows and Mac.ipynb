{
 "cells": [
  {
   "cell_type": "code",
   "execution_count": null,
   "id": "fb1b1a62",
   "metadata": {},
   "outputs": [],
   "source": [
    "# **********************************************************************\n",
    "# Project           : DSCodingTips\n",
    "#\n",
    "# Program name      : DSCodeTips2_Standardize csv reading between Windows and Mac\n",
    "#\n",
    "# Author            : insilicobiology\n",
    "#\n",
    "# Date created      : 20220924\n",
    "#\n",
    "# Summary           : How to discover the file encoding of a .csv file\n",
    "#\n",
    "#\n",
    "# Revision History  :\n",
    "#\n",
    "# Date        Author              Num    Summary\n",
    "# 20220924    insilicobiology      1      clean\n",
    "#\n",
    "#\n",
    "# **********************************************************************"
   ]
  },
  {
   "cell_type": "code",
   "execution_count": 1,
   "id": "41ae9dbc",
   "metadata": {},
   "outputs": [],
   "source": [
    "import pandas as pd"
   ]
  },
  {
   "cell_type": "code",
   "execution_count": 2,
   "id": "9d9e61d2",
   "metadata": {},
   "outputs": [],
   "source": [
    "#simplified form but not effective \n",
    "\n",
    "dataset=pd.read_csv('Data/iris.csv')"
   ]
  },
  {
   "cell_type": "code",
   "execution_count": null,
   "id": "b5f60d36",
   "metadata": {},
   "outputs": [],
   "source": []
  },
  {
   "cell_type": "code",
   "execution_count": 3,
   "id": "d9efc542",
   "metadata": {},
   "outputs": [],
   "source": [
    "#ideal one, works with windows and mac environments\n",
    "\n",
    "dataset=pd.read_csv(r'Data/iris.csv')"
   ]
  },
  {
   "cell_type": "code",
   "execution_count": null,
   "id": "68feeb3d",
   "metadata": {},
   "outputs": [],
   "source": []
  }
 ],
 "metadata": {
  "kernelspec": {
   "display_name": "Python 3 (ipykernel)",
   "language": "python",
   "name": "python3"
  },
  "language_info": {
   "codemirror_mode": {
    "name": "ipython",
    "version": 3
   },
   "file_extension": ".py",
   "mimetype": "text/x-python",
   "name": "python",
   "nbconvert_exporter": "python",
   "pygments_lexer": "ipython3",
   "version": "3.9.12"
  }
 },
 "nbformat": 4,
 "nbformat_minor": 5
}
